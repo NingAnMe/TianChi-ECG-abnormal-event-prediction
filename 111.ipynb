{
 "cells": [
  {
   "cell_type": "markdown",
   "metadata": {},
   "source": [
    "这是一个多分类（multilabel, multiclass classification）的问题，同一条心电图曲线，可能出现多种心率失常的状态。\n",
    "由于心电图的特性，使用类似时间序列的模型最佳"
   ]
  },
  {
   "cell_type": "code",
   "execution_count": null,
   "metadata": {
    "pycharm": {
     "name": "#%%\n"
    }
   },
   "outputs": [],
   "source": [
    "import os\n",
    "import numpy as np\n",
    "import pandas as pd"
   ]
  },
  {
   "cell_type": "code",
   "execution_count": null,
   "metadata": {
    "pycharm": {
     "is_executing": false,
     "name": "#%%\n"
    }
   },
   "outputs": [],
   "source": [
    "# constant\n",
    "root_dir = r'C:/D/nsmc/TianChi/HeFei'\n",
    "train_dir = os.path.join(root_dir, 'train')\n",
    "testa_dir = os.path.join(root_dir, 'testA')\n",
    "train_label_file = os.path.join(root_dir, 'hf_round1_label.txt')\n",
    "arrythmia_file = os.path.join(root_dir, 'hf_round1_arrythmia.txt')"
   ]
  },
  {
   "cell_type": "markdown",
   "metadata": {},
   "source": [
    "#### 加载train_data"
   ]
  },
  {
   "cell_type": "code",
   "execution_count": null,
   "metadata": {},
   "outputs": [],
   "source": [
    "#I II V1 V2 V3 V4 V5 V6 \n",
    "train_files = os.listdir(train_dir)\n",
    "train_files.sort()\n",
    "length = len(train_files)\n",
    "train_data = np.zeros((length, 5000, 8))\n",
    "for i, train_file in enumerate(train_files):\n",
    "    data = np.loadtxt(one_train_file, skiprows=1)[np.newaxis, :]\n",
    "    train_data[i, :] = data\n",
    "    \n",
    "# III=II-I\n",
    "# aVR=-(I+II)/2\n",
    "# aVL=I-II/2\n",
    "# aVF=II-I/2\n",
    "train_data_extend = np.zeros((length, 5000, 4))\n",
    "train_data_entend[:, 0] = train_data[:, 1] - train_data[:, 0]\n",
    "train_data_entend[:, 1] = (train_data[:, 0] + train_data[:, 1]) / 2\n",
    "train_data_entend[:, 2] = (train_data[:, 0] - train_data[:, 1]) / 2\n",
    "train_data_entend[:, 3] = (train_data[:, 1] - train_data[:, 0]) / 2\n",
    "train_data = np.concentrate((train_data, train_data_extend), axis=2)"
   ]
  },
  {
   "cell_type": "markdown",
   "metadata": {},
   "source": [
    "#### 将心率失常的种类进行编码"
   ]
  },
  {
   "cell_type": "code",
   "execution_count": null,
   "metadata": {},
   "outputs": [],
   "source": [
    "with open(arrythmia_file, 'r') as fp:\n",
    "    arrythmia = [i.strip() for i in fp.readlines()]\n",
    "arrythmia_encoding = {}\n",
    "arrythmia_decoding = {}\n",
    "for i, key in enumerate(arrythmia):\n",
    "    arrythmia_encoding[key] = i\n",
    "    arrythmia_decoding[i] = key"
   ]
  },
  {
   "cell_type": "markdown",
   "metadata": {},
   "source": [
    "#### 将标签进行one-hot编码"
   ]
  },
  {
   "cell_type": "code",
   "execution_count": null,
   "metadata": {},
   "outputs": [],
   "source": [
    "with open(train_label_file, 'r', encoding='utf-8') as fp:\n",
    "    train_labels = [i.split('\\t') for i in fp.readlines()]"
   ]
  },
  {
   "cell_type": "code",
   "execution_count": null,
   "metadata": {
    "scrolled": true
   },
   "outputs": [],
   "source": [
    "print(len(train_labels))\n",
    "print(train_labels[0:5])"
   ]
  },
  {
   "cell_type": "code",
   "execution_count": null,
   "metadata": {},
   "outputs": [],
   "source": [
    "def to_one_hot(labels, dimension=55):\n",
    "    results = np.zeros((len(labels), dimension))\n",
    "    for i, label in enumerate(labels):\n",
    "        for j in label[3:]:\n",
    "            index = arrythmia_encoding.get(j)\n",
    "            if index is not None:\n",
    "                results[i, index] = 1.\n",
    "    return results"
   ]
  },
  {
   "cell_type": "code",
   "execution_count": null,
   "metadata": {},
   "outputs": [],
   "source": [
    "one_hot_train_labels = to_one_hot(train_labels)"
   ]
  },
  {
   "cell_type": "code",
   "execution_count": null,
   "metadata": {},
   "outputs": [],
   "source": [
    "print(len(one_hot_train_labels))\n",
    "print(one_hot_train_labels[0:5])"
   ]
  },
  {
   "cell_type": "code",
   "execution_count": null,
   "metadata": {},
   "outputs": [],
   "source": [
    "print('种类\\t数量')\n",
    "for i, count in enumerate(np.sum(one_hot_train_labels, axis=0).astype(np.int)):\n",
    "    print(arrythmia_decoding[i], count)"
   ]
  },
  {
   "cell_type": "code",
   "execution_count": null,
   "metadata": {},
   "outputs": [],
   "source": []
  }
 ],
 "metadata": {
  "kernelspec": {
   "display_name": "Python 3",
   "language": "python",
   "name": "python3"
  },
  "language_info": {
   "codemirror_mode": {
    "name": "ipython",
    "version": 3
   },
   "file_extension": ".py",
   "mimetype": "text/x-python",
   "name": "python",
   "nbconvert_exporter": "python",
   "pygments_lexer": "ipython3",
   "version": "3.7.3"
  },
  "pycharm": {
   "stem_cell": {
    "cell_type": "raw",
    "metadata": {
     "collapsed": false
    },
    "source": []
   }
  }
 },
 "nbformat": 4,
 "nbformat_minor": 1
}
