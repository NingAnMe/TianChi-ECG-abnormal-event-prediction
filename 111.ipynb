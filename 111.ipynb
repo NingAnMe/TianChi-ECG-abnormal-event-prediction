{
 "cells": [
  {
   "cell_type": "markdown",
   "metadata": {},
   "source": [
    "这是一个多分类（multilabel, multiclass classification）的问题，同一条心电图曲线，可能出现多种心率失常的状态。\n",
    "由于心电图的特性，使用类似时间序列的模型最佳"
   ]
  },
  {
   "cell_type": "code",
   "execution_count": 4,
   "metadata": {
    "pycharm": {
     "name": "#%%\n"
    }
   },
   "outputs": [],
   "source": [
    "import os\n",
    "import numpy as np\n",
    "import pandas as pd"
   ]
  },
  {
   "cell_type": "code",
   "execution_count": 3,
   "metadata": {
    "pycharm": {
     "is_executing": false,
     "name": "#%%\n"
    }
   },
   "outputs": [],
   "source": [
    "# constant\n",
    "root_dir = r'C:/D/nsmc/TianChi/HeFei'\n",
    "train_dir = os.path.join(root_dir, 'train')\n",
    "testa_dir = os.path.join(root_dir, 'testA')\n",
    "train_label_file = os.path.join(root_dir, 'hf_round1_label.txt')\n",
    "arrythmia_file = os.path.join(root_dir, 'hf_round1_arrythmia.txt')"
   ]
  },
  {
   "cell_type": "markdown",
   "metadata": {},
   "source": [
    "#### 加载train_data"
   ]
  },
  {
   "cell_type": "code",
   "execution_count": null,
   "metadata": {},
   "outputs": [],
   "source": [
    "train_files = os.listdir(train_dir)\n",
    "train_files.sort()\n",
    "length = len(train_files)\n",
    "train_data = np.zeros((length, 5000, 8))\n",
    "for i, train_file in enumerate(train_files):\n",
    "    data = np.loadtxt(one_train_file, skiprows=1)[np.newaxis, :]\n",
    "    train_data[i, :] = data"
   ]
  },
  {
   "cell_type": "markdown",
   "metadata": {},
   "source": [
    "#### 将心率失常的种类进行编码"
   ]
  },
  {
   "cell_type": "code",
   "execution_count": 71,
   "metadata": {},
   "outputs": [],
   "source": [
    "with open(arrythmia_file, 'r') as fp:\n",
    "    arrythmia = [i.strip() for i in fp.readlines()]\n",
    "arrythmia_encoding = {}\n",
    "arrythmia_decoding = {}\n",
    "for i, key in enumerate(arrythmia):\n",
    "    arrythmia_encoding[key] = i\n",
    "    arrythmia_decoding[i] = key"
   ]
  },
  {
   "cell_type": "markdown",
   "metadata": {},
   "source": [
    "#### 将标签进行one-hot编码"
   ]
  },
  {
   "cell_type": "code",
   "execution_count": 48,
   "metadata": {},
   "outputs": [],
   "source": [
    "with open(train_label_file, 'r', encoding='utf-8') as fp:\n",
    "    train_labels = [i.split('\\t') for i in fp.readlines()]"
   ]
  },
  {
   "cell_type": "code",
   "execution_count": 60,
   "metadata": {
    "scrolled": true
   },
   "outputs": [
    {
     "name": "stdout",
     "output_type": "stream",
     "text": [
      "24106\n",
      "[['2.txt', '', '', '窦性心律', 'QRS低电压', '\\n'], ['5.txt', '40', 'FEMALE', '窦性心律', 'QRS低电压', '\\n'], ['9.txt', '54', 'FEMALE', '窦性心动过缓', 'QRS低电压', '\\n'], ['12.txt', '25', 'FEMALE', '窦性心律', 'QRS低电压', '\\n'], ['14.txt', '37', 'FEMALE', '窦性心律', 'QRS低电压', '\\n']]\n"
     ]
    }
   ],
   "source": [
    "print(len(train_labels))\n",
    "print(train_labels[0:5])"
   ]
  },
  {
   "cell_type": "code",
   "execution_count": 57,
   "metadata": {},
   "outputs": [],
   "source": [
    "def to_one_hot(labels, dimension=55):\n",
    "    results = np.zeros((len(labels), dimension))\n",
    "    for i, label in enumerate(labels):\n",
    "        for j in label[3:]:\n",
    "            index = arrythmia_encoding.get(j)\n",
    "            if index is not None:\n",
    "                results[i, index] = 1.\n",
    "    return results"
   ]
  },
  {
   "cell_type": "code",
   "execution_count": 61,
   "metadata": {},
   "outputs": [],
   "source": [
    "one_hot_train_labels = to_one_hot(train_labels)"
   ]
  },
  {
   "cell_type": "code",
   "execution_count": 77,
   "metadata": {},
   "outputs": [
    {
     "name": "stdout",
     "output_type": "stream",
     "text": [
      "24106\n",
      "[[1. 0. 0. 0. 0. 0. 0. 0. 0. 1. 0. 0. 0. 0. 0. 0. 0. 0. 0. 0. 0. 0. 0. 0.\n",
      "  0. 0. 0. 0. 0. 0. 0. 0. 0. 0. 0. 0. 0. 0. 0. 0. 0. 0. 0. 0. 0. 0. 0. 0.\n",
      "  0. 0. 0. 0. 0. 0. 0.]\n",
      " [1. 0. 0. 0. 0. 0. 0. 0. 0. 1. 0. 0. 0. 0. 0. 0. 0. 0. 0. 0. 0. 0. 0. 0.\n",
      "  0. 0. 0. 0. 0. 0. 0. 0. 0. 0. 0. 0. 0. 0. 0. 0. 0. 0. 0. 0. 0. 0. 0. 0.\n",
      "  0. 0. 0. 0. 0. 0. 0.]\n",
      " [0. 0. 1. 0. 0. 0. 0. 0. 0. 1. 0. 0. 0. 0. 0. 0. 0. 0. 0. 0. 0. 0. 0. 0.\n",
      "  0. 0. 0. 0. 0. 0. 0. 0. 0. 0. 0. 0. 0. 0. 0. 0. 0. 0. 0. 0. 0. 0. 0. 0.\n",
      "  0. 0. 0. 0. 0. 0. 0.]\n",
      " [1. 0. 0. 0. 0. 0. 0. 0. 0. 1. 0. 0. 0. 0. 0. 0. 0. 0. 0. 0. 0. 0. 0. 0.\n",
      "  0. 0. 0. 0. 0. 0. 0. 0. 0. 0. 0. 0. 0. 0. 0. 0. 0. 0. 0. 0. 0. 0. 0. 0.\n",
      "  0. 0. 0. 0. 0. 0. 0.]\n",
      " [1. 0. 0. 0. 0. 0. 0. 0. 0. 1. 0. 0. 0. 0. 0. 0. 0. 0. 0. 0. 0. 0. 0. 0.\n",
      "  0. 0. 0. 0. 0. 0. 0. 0. 0. 0. 0. 0. 0. 0. 0. 0. 0. 0. 0. 0. 0. 0. 0. 0.\n",
      "  0. 0. 0. 0. 0. 0. 0.]]\n"
     ]
    }
   ],
   "source": [
    "print(len(one_hot_train_labels))\n",
    "print(one_hot_train_labels[0:5])"
   ]
  },
  {
   "cell_type": "code",
   "execution_count": 76,
   "metadata": {},
   "outputs": [
    {
     "name": "stdout",
     "output_type": "stream",
     "text": [
      "种类\t数量\n",
      "窦性心律 16918\n",
      "T波改变 3421\n",
      "窦性心动过缓 3372\n",
      "ST段改变 2967\n",
      "正常ECG 4171\n",
      "左心室高电压 4326\n",
      "ST-T改变 2111\n",
      "窦性心动过速 2010\n",
      "临界ECG 1911\n",
      "QRS低电压 1543\n",
      "房性早搏 1470\n",
      "电轴左偏 1137\n",
      "电轴右偏 1055\n",
      "心房颤动 1217\n",
      "异常ECG 1061\n",
      "室性早搏 971\n",
      "完全性右束支传导阻滞 1109\n",
      "窦性心律不齐 924\n",
      "左心室肥大 432\n",
      "右束支传导阻滞 392\n",
      "一度房室传导阻滞 282\n",
      "快心室率 229\n",
      "不完全性右束支传导阻滞 199\n",
      "非特异性T波异常 125\n",
      "QT间期延长 101\n",
      "左前分支传导阻滞 106\n",
      "非特异性ST段异常 78\n",
      "差异性传导 75\n",
      "非特异性ST段与T波异常 61\n",
      "起搏心律 74\n",
      "短PR间期 55\n",
      "下壁异常Q波 53\n",
      "快室率心房颤动 42\n",
      "逆钟向转位 34\n",
      "室内差异性传导 36\n",
      "早期复极化 37\n",
      "二联律 27\n",
      "室上性早搏 33\n",
      "顺钟向转位 30\n",
      "复极化异常 29\n",
      "未下传的房性早搏 25\n",
      "肺心病型 27\n",
      "慢心室率 30\n",
      "短串房性心动过速 21\n",
      "非特异性室内传导延迟 16\n",
      "右心房扩大 24\n",
      "左束支传导阻滞 18\n",
      "前间壁R波递增不良 19\n",
      "右心室肥大 18\n",
      "房室传导延缓 10\n",
      "双分支传导阻滞 20\n",
      "非特异性室内传导阻滞 17\n",
      "肺型P波 17\n",
      "完全性左束支传导阻滞 20\n",
      "融合波 18\n"
     ]
    }
   ],
   "source": [
    "print('种类\\t数量')\n",
    "for i, count in enumerate(np.sum(one_hot_train_labels, axis=0).astype(np.int)):\n",
    "    print(arrythmia_decoding[i], count)"
   ]
  },
  {
   "cell_type": "code",
   "execution_count": null,
   "metadata": {},
   "outputs": [],
   "source": []
  }
 ],
 "metadata": {
  "kernelspec": {
   "display_name": "Python 3",
   "language": "python",
   "name": "python3"
  },
  "language_info": {
   "codemirror_mode": {
    "name": "ipython",
    "version": 3
   },
   "file_extension": ".py",
   "mimetype": "text/x-python",
   "name": "python",
   "nbconvert_exporter": "python",
   "pygments_lexer": "ipython3",
   "version": "3.7.3"
  },
  "pycharm": {
   "stem_cell": {
    "cell_type": "raw",
    "metadata": {
     "collapsed": false
    },
    "source": []
   }
  }
 },
 "nbformat": 4,
 "nbformat_minor": 1
}
